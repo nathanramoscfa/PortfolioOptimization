{
 "cells": [
  {
   "cell_type": "markdown",
   "metadata": {
    "id": "ixrtT2W9Onwd"
   },
   "source": [
    "# Portfolio Optimization and Backtesting With Python"
   ]
  },
  {
   "cell_type": "markdown",
   "metadata": {
    "id": "em0dOBK6PAsp"
   },
   "source": [
    "Written by Nathan Ramos, CFA${^®}$, of NR Capital Management, LLC.\n",
    "\n",
    "Schedule a [FREE consultation](https://calendly.com/nrcapitalmanagement/30min) to see how we can enhance your investment strategy with statistical methods such as what you see below."
   ]
  },
  {
   "cell_type": "markdown",
   "metadata": {
    "id": "4kyLWSYwPAvz"
   },
   "source": [
    "## Introduction"
   ]
  },
  {
   "cell_type": "markdown",
   "metadata": {
    "id": "IXduACJgPAyo"
   },
   "source": [
    "**Run this notebook by clicking \"Runtime\" in the top menu, then click \"Run all\", or press CTRL + F9.**"
   ]
  },
  {
   "cell_type": "markdown",
   "metadata": {
    "id": "hwl2OsAPPA1Z"
   },
   "source": [
    " Portfolio optimization is a quantitative process used to select an optimal set of assets from a larger pool to achieve specific investment objectives. The aim is to construct a portfolio that offers the maximum possible expected return for a given level of risk, or equivalently, to minimize risk for a given level of expected return. Traditional methods often rely on Markowitz’s Efficient Frontier, which models the trade-off between risk and return for a set of risky assets. The optimization problem involves input parameters like expected returns, variances, and covariances for the assets under consideration. Constraints may also be added to tailor the optimization to an investor's particular needs. By employing mathematical models and techniques, portfolio optimization helps investors make informed decisions, providing a data-driven foundation for selecting and allocating assets in an investment portfolio. However, these models should be used with caution and be used as a guideline rather than a definitive answer and is best employed in conjunction with other tools and analyses. No model is perfect and the true optimal portfolio may differ from the one computed by a portfolio optimization algorithm."
   ]
  },
  {
   "cell_type": "markdown",
   "metadata": {
    "id": "dY2feDoCQWb6"
   },
   "source": [
    "## Install Libraries"
   ]
  },
  {
   "cell_type": "markdown",
   "metadata": {},
   "source": [
    "Before we dive into the code, we need to install the libraries that will be utilized throughout this notebook. Running the following cell will install the necessary Python packages:"
   ]
  },
  {
   "cell_type": "code",
   "execution_count": 1,
   "metadata": {
    "executionInfo": {
     "elapsed": 9159,
     "status": "ok",
     "timestamp": 1693366251645,
     "user": {
      "displayName": "Nathan Ramos",
      "userId": "15932077234235285562"
     },
     "user_tz": 300
    },
    "id": "tvW2rD-eOned"
   },
   "outputs": [],
   "source": [
    "# %%capture\n",
    "# !pip install PyPortfolioOpt yahooquery bt ffn"
   ]
  },
  {
   "cell_type": "markdown",
   "metadata": {},
   "source": [
    "- PyPortfolioOpt: For portfolio optimization algorithms and utility functions.\n",
    "- yahooquery: To fetch financial data from Yahoo Finance.\n",
    "- bt: For backtesting portfolio strategies.\n",
    "- ffn: A financial function library for working with financial data.\n",
    "\n",
    "Simply run the cell to install these packages. The %%capture magic command will suppress any output, ensuring a clean notebook."
   ]
  },
  {
   "cell_type": "markdown",
   "metadata": {
    "id": "FLQ4TTR8QmXz"
   },
   "source": [
    "## Import Libraries"
   ]
  },
  {
   "cell_type": "markdown",
   "metadata": {},
   "source": [
    "Once the packages are installed, we need to import them to start using their features. Run the following cell to import the libraries:"
   ]
  },
  {
   "cell_type": "code",
   "execution_count": 2,
   "metadata": {
    "executionInfo": {
     "elapsed": 2270,
     "status": "ok",
     "timestamp": 1693366253848,
     "user": {
      "displayName": "Nathan Ramos",
      "userId": "15932077234235285562"
     },
     "user_tz": 300
    },
    "id": "V5h7gYfdQnor",
    "tags": []
   },
   "outputs": [],
   "source": [
    "import bt\n",
    "import ffn\n",
    "import pandas as pd\n",
    "import numpy as np\n",
    "import matplotlib.pyplot as plt\n",
    "from matplotlib.ticker import FuncFormatter\n",
    "%matplotlib inline"
   ]
  },
  {
   "cell_type": "code",
   "execution_count": 3,
   "metadata": {
    "executionInfo": {
     "elapsed": 318,
     "status": "ok",
     "timestamp": 1693366254125,
     "user": {
      "displayName": "Nathan Ramos",
      "userId": "15932077234235285562"
     },
     "user_tz": 300
    },
    "id": "qTyhz63pUPSk",
    "tags": []
   },
   "outputs": [],
   "source": [
    "from tqdm import tqdm\n",
    "from yahooquery import Ticker\n",
    "from cvxpy import SolverError\n",
    "from pypfopt import risk_models as rm\n",
    "from pypfopt import black_litterman, plotting, expected_returns, EfficientSemivariance\n",
    "from pypfopt.exceptions import OptimizationError"
   ]
  },
  {
   "cell_type": "markdown",
   "metadata": {},
   "source": [
    "Here's a brief overview of why we are using each library:\n",
    "\n",
    "- bt: For backtesting and simulating portfolio strategies.\n",
    "- ffn: Provides utility functions for financial data manipulation.\n",
    "- pandas and numpy: Essential for data manipulation and numerical operations.\n",
    "- matplotlib: For all data visualizations and plotting.\n",
    "- tqdm: Provides progress bars for loops to indicate processing time.\n",
    "- yahooquery: Fetches financial data from Yahoo Finance.\n",
    "- pypfopt: Implements portfolio optimization algorithms, risk models, and utility functions.\n",
    "\n",
    "By importing these libraries, we set up our Python environment for the various tasks in portfolio optimization."
   ]
  },
  {
   "cell_type": "markdown",
   "metadata": {
    "id": "YE8yF_jCZi7T"
   },
   "source": [
    "## Define Inputs"
   ]
  },
  {
   "cell_type": "markdown",
   "metadata": {},
   "source": [
    "In this section, we will define the key inputs required for our portfolio optimization algorithm. Portfolio optimization is highly dependent on the inputs provided, so it's crucial to understand the parameters you are setting. Below are the inputs we'll be working with:"
   ]
  },
  {
   "cell_type": "markdown",
   "metadata": {},
   "source": [
    "### Portfolio Tickers"
   ]
  },
  {
   "cell_type": "code",
   "execution_count": 4,
   "metadata": {
    "executionInfo": {
     "elapsed": 6,
     "status": "ok",
     "timestamp": 1693366254125,
     "user": {
      "displayName": "Nathan Ramos",
      "userId": "15932077234235285562"
     },
     "user_tz": 300
    },
    "id": "eb9lo_jehRPQ"
   },
   "outputs": [],
   "source": [
    "portfolio_tickers = [\n",
    "    'SPY', # Stocks\n",
    "    'BND', # Bonds\n",
    "    'GLD', # Gold\n",
    "    'GBTC' # Crypto\n",
    "]"
   ]
  },
  {
   "cell_type": "markdown",
   "metadata": {},
   "source": [
    "Here, we specify the assets that will be included in our portfolio optimization model. These tickers represent ETFs or other financial instruments for each asset class:\n",
    "\n",
    "- **SPY**: Represents the S&P 500 index, covering a broad range of U.S. stocks.\n",
    "- **BND**: A broad-based bond index.\n",
    "- **GLD**: Tracks the price of Gold.\n",
    "- **GBTC**: Represents a Bitcoin investment trust for cryptocurrency exposure."
   ]
  },
  {
   "cell_type": "markdown",
   "metadata": {},
   "source": [
    "### Weight Bounds"
   ]
  },
  {
   "cell_type": "code",
   "execution_count": 5,
   "metadata": {},
   "outputs": [],
   "source": [
    "weight_bounds = [\n",
    "    (0, 1.0), # SPY 0-100%\n",
    "    (0, 1.0), # BND 0-100%\n",
    "    (0, 0.1), # GLD 0-10%\n",
    "    (0, 0.05) # GBTC 0-5%\n",
    "]"
   ]
  },
  {
   "cell_type": "markdown",
   "metadata": {},
   "source": [
    "For each asset specified, we set a range of allowable weights. These bounds serve as constraints during the optimization process:\n",
    "\n",
    "- **SPY**: Allowable allocation between 0% and 100%.\n",
    "- **BND**: Allowable allocation between 0% and 100%.\n",
    "- **GLD**: Allowable allocation between 0% and 10%.\n",
    "- **GBTC**: Allowable allocation between 0% and 5%.\n",
    "\n",
    "These weight bounds can be adjusted based on your investment strategy and risk tolerance. They serve to enforce certain guidelines, like diversification or avoiding excessive concentration in risky assets."
   ]
  },
  {
   "cell_type": "markdown",
   "metadata": {},
   "source": [
    "### Benchmark Portfolio"
   ]
  },
  {
   "cell_type": "code",
   "execution_count": 6,
   "metadata": {
    "executionInfo": {
     "elapsed": 6,
     "status": "ok",
     "timestamp": 1693366254126,
     "user": {
      "displayName": "Nathan Ramos",
      "userId": "15932077234235285562"
     },
     "user_tz": 300
    },
    "id": "8uVaOO7K9R2R"
   },
   "outputs": [],
   "source": [
    "benchmark_name = 'Market Cap Weighted Portfolio'\n",
    "benchmark_portfolio = { # weights\n",
    "    'SPY': 0.5458,\n",
    "    'BND': 0.3771,\n",
    "    'GLD': 0.0730,\n",
    "    'GBTC': 0.0041\n",
    "}"
   ]
  },
  {
   "cell_type": "markdown",
   "metadata": {},
   "source": [
    "We also define a benchmark portfolio for comparison purposes. This could be a market-cap weighted portfolio or any other strategy you'd like to compare your optimized portfolio against.\n",
    "\n",
    "In this example, we have a market cap weighted portfolio with the following asset allocations:\n",
    "\n",
    "- **SPY**: 54.58%\n",
    "- **BND**: 37.71%\n",
    "- **GLD**: 7.30%\n",
    "- **GBTC**: 0.41%\n",
    "\n",
    "These weights serve as a point of reference to evaluate how well our optimized portfolio performs in comparison to a traditional market allocation."
   ]
  },
  {
   "cell_type": "code",
   "execution_count": 7,
   "metadata": {
    "executionInfo": {
     "elapsed": 6,
     "status": "ok",
     "timestamp": 1693366254126,
     "user": {
      "displayName": "Nathan Ramos",
      "userId": "15932077234235285562"
     },
     "user_tz": 300
    },
    "id": "djOmWZF4s-Q1"
   },
   "outputs": [],
   "source": [
    "# Set dates for historical prices\n",
    "start_date = '2000-01-01'\n",
    "end_date = '2023-09-01'"
   ]
  },
  {
   "cell_type": "markdown",
   "metadata": {
    "id": "fWc5mLL2fkxM"
   },
   "source": [
    "## Data Retrieval Functions"
   ]
  },
  {
   "cell_type": "markdown",
   "metadata": {},
   "source": [
    "In this section, we define several Python functions that fetch and process the data needed for portfolio optimization. These functions leverage the yahooquery library to obtain financial data from Yahoo Finance. Here's an overview of each function:"
   ]
  },
  {
   "cell_type": "code",
   "execution_count": 8,
   "metadata": {
    "executionInfo": {
     "elapsed": 6,
     "status": "ok",
     "timestamp": 1693366254126,
     "user": {
      "displayName": "Nathan Ramos",
      "userId": "15932077234235285562"
     },
     "user_tz": 300
    },
    "id": "5AXdZFSoafgZ"
   },
   "outputs": [],
   "source": [
    "def get_historical_prices(tickers, period='max', start_date=None, end_date=None):\n",
    "    ticker_string = ' '.join(tickers)\n",
    "    if start_date is None:\n",
    "        data = Ticker(ticker_string).history(period='max')['adjclose'].reset_index()\n",
    "    else:\n",
    "        data = Ticker(ticker_string).history(start=start_date, end=end_date)['adjclose'].reset_index()\n",
    "    df = data.pivot(index='date', columns='symbol', values='adjclose').dropna()\n",
    "    try:\n",
    "        df.index = df.index.to_series().dt.strftime('%Y-%m-%d')\n",
    "    except AttributeError:\n",
    "        pass\n",
    "    df.index = pd.to_datetime(df.index)\n",
    "    return df.sort_index(axis=1)"
   ]
  },
  {
   "cell_type": "markdown",
   "metadata": {},
   "source": [
    "- Retrieves the historical adjusted closing prices for the given tickers.\n",
    "- Allows specifying a period, start_date, and end_date.\n",
    "- Returns a DataFrame with dates as indices and tickers as columns."
   ]
  },
  {
   "cell_type": "code",
   "execution_count": 9,
   "metadata": {
    "executionInfo": {
     "elapsed": 6,
     "status": "ok",
     "timestamp": 1693366254126,
     "user": {
      "displayName": "Nathan Ramos",
      "userId": "15932077234235285562"
     },
     "user_tz": 300
    },
    "id": "eQRsnHUAtl3n"
   },
   "outputs": [],
   "source": [
    "def get_summary_details(tickers):\n",
    "    ticker_string = ' '.join(tickers)\n",
    "    data_dict = Ticker(ticker_string).summary_detail\n",
    "    summary_detail = pd.DataFrame.from_dict(data_dict, orient='index')\n",
    "    return summary_detail.transpose().sort_index(axis=1)"
   ]
  },
  {
   "cell_type": "markdown",
   "metadata": {},
   "source": [
    "- Fetches the summary details for the list of tickers.\n",
    "- Returns a DataFrame containing various financial metrics like P/E ratio, market cap, etc."
   ]
  },
  {
   "cell_type": "code",
   "execution_count": 10,
   "metadata": {
    "executionInfo": {
     "elapsed": 5,
     "status": "ok",
     "timestamp": 1693366254126,
     "user": {
      "displayName": "Nathan Ramos",
      "userId": "15932077234235285562"
     },
     "user_tz": 300
    },
    "id": "gMy30-JP2s05"
   },
   "outputs": [],
   "source": [
    "def get_current_prices(tickers):\n",
    "    ticker_string = ' '.join(tickers)\n",
    "    data_dict = Ticker(ticker_string).price\n",
    "    current_prices = pd.DataFrame.from_dict(data_dict, orient='index')\n",
    "    current_prices = current_prices.transpose()\n",
    "    return current_prices.sort_index(axis=1)"
   ]
  },
  {
   "cell_type": "markdown",
   "metadata": {},
   "source": [
    "- Obtains the most recent prices for the list of tickers.\n",
    "- Returns a DataFrame with the current prices."
   ]
  },
  {
   "cell_type": "code",
   "execution_count": 11,
   "metadata": {
    "executionInfo": {
     "elapsed": 5,
     "status": "ok",
     "timestamp": 1693366254126,
     "user": {
      "displayName": "Nathan Ramos",
      "userId": "15932077234235285562"
     },
     "user_tz": 300
    },
    "id": "SloPHGJwi_-l"
   },
   "outputs": [],
   "source": [
    "def get_risk_free_rate(ticker='^TNX', method='current'):\n",
    "    data_dict = Ticker(ticker).price\n",
    "    risk_free_rate = pd.DataFrame.from_dict(data_dict, orient='index').transpose()\n",
    "    risk_free_rate_name = risk_free_rate.loc['longName'].squeeze()\n",
    "    risk_free_rate = round(risk_free_rate.loc['regularMarketPrice'].squeeze() / 100, 4)\n",
    "    return risk_free_rate, risk_free_rate_name"
   ]
  },
  {
   "cell_type": "markdown",
   "metadata": {},
   "source": [
    "- Obtains the current risk-free rate, typically represented by the 10-year U.S. Treasury note (^TNX).\n",
    "- Returns rate and its associated name."
   ]
  },
  {
   "cell_type": "code",
   "execution_count": 12,
   "metadata": {
    "tags": []
   },
   "outputs": [],
   "source": [
    "def get_historical_risk_free_rate(ticker='^TNX', period='max', start_date=None, end_date=None):\n",
    "    if start_date is None:\n",
    "        historical_risk_free_rate = get_historical_prices([ticker], period) / 100\n",
    "    else:\n",
    "        historical_risk_free_rate = get_historical_prices([ticker], start_date=start_date, end_date=end_date) / 100\n",
    "        \n",
    "    # Get the risk free rate name\n",
    "    df = pd.DataFrame.from_dict(Ticker(ticker).price, orient='index').transpose()\n",
    "    risk_free_rate_name = df.loc['longName'].squeeze()\n",
    "    return historical_risk_free_rate, risk_free_rate_name"
   ]
  },
  {
   "cell_type": "markdown",
   "metadata": {},
   "source": [
    "- Collects historical risk-free rates.\n",
    "- Allows the option to specify a period, start_date, and end_date."
   ]
  },
  {
   "cell_type": "code",
   "execution_count": 13,
   "metadata": {
    "tags": []
   },
   "outputs": [],
   "source": [
    "def process_historical_data(historical_prices, benchmark_prices, historical_risk_free_rate):\n",
    "    price_tickers = list(historical_prices.columns)\n",
    "    benchmark_tickers = list(benchmark_prices.columns)\n",
    "    risk_free_ticker = list(historical_risk_free_rate.columns)\n",
    "    historical_risk_free_rate = pd.concat([historical_prices, historical_risk_free_rate], axis=1).dropna()\n",
    "    historical_risk_free_rate = historical_risk_free_rate[risk_free_ticker]\n",
    "    historical_prices = pd.concat([historical_prices, historical_risk_free_rate], axis=1).dropna()\n",
    "    historical_prices = historical_prices[price_tickers]\n",
    "    benchmark_prices = pd.concat([benchmark_prices, historical_risk_free_rate], axis=1).dropna()\n",
    "    benchmark_prices = benchmark_prices[benchmark_tickers]\n",
    "    return historical_prices, benchmark_prices, historical_risk_free_rate"
   ]
  },
  {
   "cell_type": "markdown",
   "metadata": {},
   "source": [
    "- Aligns historical prices and risk-free rates by date.\n",
    "- Returns DataFrames that are aligned by date."
   ]
  },
  {
   "cell_type": "code",
   "execution_count": 14,
   "metadata": {
    "tags": []
   },
   "outputs": [],
   "source": [
    "def process_weight_bounds(portfolio_tickers, weight_bounds):\n",
    "    ticker_to_bounds = dict(zip(portfolio_tickers, weight_bounds))\n",
    "    portfolio_tickers = sorted(portfolio_tickers)\n",
    "    return [ticker_to_bounds[ticker] for ticker in portfolio_tickers]"
   ]
  },
  {
   "cell_type": "markdown",
   "metadata": {},
   "source": [
    "- Maps weight bounds to their respective tickers in the portfolio.\n",
    "- Returns a list of weights bounds sorted according to ticker names."
   ]
  },
  {
   "cell_type": "markdown",
   "metadata": {
    "id": "bd_wXTOP35-c"
   },
   "source": [
    "## Fetch Data"
   ]
  },
  {
   "cell_type": "markdown",
   "metadata": {},
   "source": [
    "In this section, we use various helper functions to fetch financial data such as historical prices, summary details, and current prices. Here's what each function does:\n",
    "\n",
    "- `get_historical_prices`: Fetches the historical adjusted closing prices for a given list of tickers.\n",
    "- `get_summary_details`: Provides summary details for each stock, including market cap, PE ratio, and more.\n",
    "- `get_current_prices`: Retrieves the current market prices of the listed tickers.\n",
    "- `get_risk_free_rate`: Gets the risk-free rate, usually the yield on a 10-year Treasury note.\n",
    "- `get_historical_risk_free_rate`: Retrieves the historical risk-free rate for backtesting purposes.\n",
    "- `process_weight_bounds`: Processes the bounds for each ticker's weight in the portfolio."
   ]
  },
  {
   "cell_type": "code",
   "execution_count": 15,
   "metadata": {
    "executionInfo": {
     "elapsed": 4896,
     "status": "ok",
     "timestamp": 1693366259017,
     "user": {
      "displayName": "Nathan Ramos",
      "userId": "15932077234235285562"
     },
     "user_tz": 300
    },
    "id": "1_nf48Tf2N7R"
   },
   "outputs": [],
   "source": [
    "historical_prices = get_historical_prices(portfolio_tickers)\n",
    "benchmark_prices = get_historical_prices(benchmark_portfolio.keys())\n",
    "summary_detail = get_summary_details(portfolio_tickers)\n",
    "current_prices = get_current_prices(portfolio_tickers+list(benchmark_portfolio.keys()))\n",
    "risk_free_rate, risk_free_rate_name = get_risk_free_rate()\n",
    "historical_risk_free_rate, risk_free_rate_name = get_historical_risk_free_rate()\n",
    "weight_bounds = process_weight_bounds(portfolio_tickers, weight_bounds)"
   ]
  },
  {
   "cell_type": "code",
   "execution_count": 16,
   "metadata": {},
   "outputs": [],
   "source": [
    "names = current_prices.loc['shortName'].sort_index()\n",
    "benchmark_portfolio = {key: value for key, value in sorted(benchmark_portfolio.items())}"
   ]
  },
  {
   "cell_type": "code",
   "execution_count": 17,
   "metadata": {
    "tags": []
   },
   "outputs": [
    {
     "data": {
      "text/plain": [
       "BND     Vanguard Total Bond Market ETF\n",
       "GBTC       GRAYSCALE BITCOIN TRUST BTC\n",
       "GLD                    SPDR Gold Trust\n",
       "SPY                       SPDR S&P 500\n",
       "Name: shortName, dtype: object"
      ]
     },
     "execution_count": 17,
     "metadata": {},
     "output_type": "execute_result"
    }
   ],
   "source": [
    "names"
   ]
  },
  {
   "cell_type": "markdown",
   "metadata": {
    "id": "79XQnWGV43lH"
   },
   "source": [
    "## Extract and Display Data"
   ]
  },
  {
   "cell_type": "markdown",
   "metadata": {},
   "source": [
    "After fetching the data, we proceed with data manipulation and visualization. Here, we:\n",
    "\n",
    "1) Process the historical prices, benchmark prices, and historical risk-free rates to make sure they are synchronized in time.\n",
    "2) Calculate and display the average historical returns for each asset in the portfolio.\n",
    "3) Plot the rebased cumulative value of each asset.\n",
    "4) Display the average risk-free rate.\n",
    "5) Show the market capitalization for each asset in billions of dollars.\n",
    "6) Plot the market weight for each asset in the portfolio.\n",
    "\n",
    "By the end of this section, you'll have a comprehensive view of your portfolio's assets, which sets the stage for further analysis and optimization."
   ]
  },
  {
   "cell_type": "code",
   "execution_count": 18,
   "metadata": {
    "tags": []
   },
   "outputs": [],
   "source": [
    "historical_prices, benchmark_prices, historical_risk_free_rate = process_historical_data(\n",
    "    historical_prices, benchmark_prices, historical_risk_free_rate\n",
    ")"
   ]
  },
  {
   "cell_type": "code",
   "execution_count": 19,
   "metadata": {
    "tags": []
   },
   "outputs": [
    {
     "data": {
      "text/plain": [
       "symbol\n",
       "BND     0.0095\n",
       "GBTC    0.5276\n",
       "GLD     0.0572\n",
       "SPY     0.1161\n",
       "dtype: float64"
      ]
     },
     "execution_count": 19,
     "metadata": {},
     "output_type": "execute_result"
    }
   ],
   "source": [
    "average_historical_return = round(expected_returns.mean_historical_return(historical_prices), 4)\n",
    "average_historical_return"
   ]
  },
  {
   "cell_type": "code",
   "execution_count": 20,
   "metadata": {
    "tags": []
   },
   "outputs": [
    {
     "data": {
      "image/png": "[encoded data removed]",
      "text/plain": [
       "<Figure size 640x480 with 1 Axes>"
      ]
     },
     "metadata": {},
     "output_type": "display_data"
    }
   ],
   "source": [
    "def format_with_percent(x, pos):\n",
    "    return '{:,.0%}'.format(x)\n",
    "\n",
    "fig, ax = plt.subplots()\n",
    "\n",
    "ax.bar(list(average_historical_return.index), list(average_historical_return.values))\n",
    "formatter = FuncFormatter(format_with_percent)\n",
    "ax.yaxis.set_major_formatter(formatter)\n",
    "\n",
    "plt.title('Average Historical Return (%) \\n{} to {}'.format(\n",
    "    historical_prices.index[0].strftime('%Y-%m-%d'),\n",
    "    historical_prices.index[-1].strftime('%Y-%m-%d')\n",
    "))\n",
    "\n",
    "plt.grid()\n",
    "plt.show();"
   ]
  },
  {
   "cell_type": "code",
   "execution_count": 21,
   "metadata": {
    "tags": []
   },
   "outputs": [
    {
     "data": {
      "image/png": "[encoded data removed]",
      "text/plain": [
       "<Figure size 1500x500 with 1 Axes>"
      ]
     },
     "metadata": {},
     "output_type": "display_data"
    }
   ],
   "source": [
    "# Define custom formatting function\n",
    "def format_with_commas(x, pos):\n",
    "    return '${:,.0f}'.format(x)\n",
    "\n",
    "# Create the plot\n",
    "ax = ffn.core.rebase(historical_prices).plot(title='Rebased Cumulative Value ($100 Initial Value) \\n{} to {}'.format(\n",
    "    historical_prices.index[0].strftime('%Y-%m-%d'),\n",
    "    historical_prices.index[-1].strftime('%Y-%m-%d')\n",
    "), logy=True, figsize=(15, 5))\n",
    "\n",
    "# Apply custom formatter\n",
    "formatter = FuncFormatter(format_with_commas)\n",
    "ax.yaxis.set_major_formatter(formatter)\n",
    "ax.set_xlabel('Date')\n",
    "plt.legend(title='Symbol')\n",
    "\n",
    "plt.show();"
   ]
  },
  {
   "cell_type": "code",
   "execution_count": 22,
   "metadata": {},
   "outputs": [
    {
     "name": "stdout",
     "output_type": "stream",
     "text": [
      "Average Risk-free Rate: 2.21%\n"
     ]
    }
   ],
   "source": [
    "average_risk_free_rate = float(round(historical_risk_free_rate.mean().squeeze(), 4))\n",
    "print('Average Risk-free Rate: {}%'.format(100 * average_risk_free_rate))"
   ]
  },
  {
   "cell_type": "code",
   "execution_count": 23,
   "metadata": {
    "colab": {
     "base_uri": "https://localhost:8080/"
    },
    "executionInfo": {
     "elapsed": 58,
     "status": "ok",
     "timestamp": 1693366259063,
     "user": {
      "displayName": "Nathan Ramos",
      "userId": "15932077234235285562"
     },
     "user_tz": 300
    },
    "id": "jbZR7r9-U82u",
    "outputId": "565a28e0-ceb6-45f1-f823-5fde271bdb01"
   },
   "outputs": [
    {
     "data": {
      "text/plain": [
       "BND     298.675929\n",
       "GBTC      3.247860\n",
       "GLD      57.822425\n",
       "SPY     432.255173\n",
       "Name: marketCap, dtype: float64"
      ]
     },
     "execution_count": 23,
     "metadata": {},
     "output_type": "execute_result"
    }
   ],
   "source": [
    "market_caps = summary_detail.copy().loc['marketCap']\n",
    "for ticker in market_caps.index:\n",
    "    if market_caps[ticker] == {}:\n",
    "        market_caps[ticker] = summary_detail.loc['totalAssets', ticker]\n",
    "market_caps = (market_caps.astype('float64') / 1000000000).sort_index()\n",
    "market_caps"
   ]
  },
  {
   "cell_type": "code",
   "execution_count": 24,
   "metadata": {
    "tags": []
   },
   "outputs": [
    {
     "data": {
      "image/png": "[encoded data removed]",
      "text/plain": [
       "<Figure size 640x480 with 1 Axes>"
      ]
     },
     "metadata": {},
     "output_type": "display_data"
    }
   ],
   "source": [
    "def format_with_commas(x, pos):\n",
    "    return '${:,.0f}'.format(x)\n",
    "\n",
    "fig, ax = plt.subplots()\n",
    "\n",
    "ax.bar(list(market_caps.index), list(market_caps.values))\n",
    "formatter = FuncFormatter(format_with_commas)\n",
    "ax.yaxis.set_major_formatter(formatter)\n",
    "\n",
    "plt.title('Market Cap ($Billions)')\n",
    "\n",
    "plt.grid()\n",
    "plt.show();"
   ]
  },
  {
   "cell_type": "code",
   "execution_count": 25,
   "metadata": {
    "colab": {
     "base_uri": "https://localhost:8080/"
    },
    "executionInfo": {
     "elapsed": 58,
     "status": "ok",
     "timestamp": 1693366259063,
     "user": {
      "displayName": "Nathan Ramos",
      "userId": "15932077234235285562"
     },
     "user_tz": 300
    },
    "id": "HSoC9XXull4f",
    "outputId": "7fcaf3a0-f5bc-4252-e2c2-9fb8b25b50cb"
   },
   "outputs": [
    {
     "data": {
      "text/plain": [
       "BND     0.3771\n",
       "GBTC    0.0041\n",
       "GLD     0.0730\n",
       "SPY     0.5458\n",
       "Name: marketCap, dtype: float64"
      ]
     },
     "execution_count": 25,
     "metadata": {},
     "output_type": "execute_result"
    }
   ],
   "source": [
    "market_weights = (market_caps / market_caps.sum()).astype(float).round(4)\n",
    "market_weights"
   ]
  },
  {
   "cell_type": "code",
   "execution_count": 26,
   "metadata": {
    "tags": []
   },
   "outputs": [
    {
     "data": {
      "image/png": "[encoded data removed]",
      "text/plain": [
       "<Figure size 640x480 with 1 Axes>"
      ]
     },
     "metadata": {},
     "output_type": "display_data"
    }
   ],
   "source": [
    "def format_with_percent(x, pos):\n",
    "    return '{:,.0%}'.format(x)\n",
    "\n",
    "fig, ax = plt.subplots()\n",
    "\n",
    "ax.bar(list(market_weights.index), list(market_weights.values))\n",
    "formatter = FuncFormatter(format_with_percent)\n",
    "ax.yaxis.set_major_formatter(formatter)\n",
    "\n",
    "plt.title('Market Weight (%)')\n",
    "\n",
    "plt.grid()\n",
    "plt.show();"
   ]
  },
  {
   "cell_type": "code",
   "execution_count": 27,
   "metadata": {
    "colab": {
     "base_uri": "https://localhost:8080/"
    },
    "executionInfo": {
     "elapsed": 55,
     "status": "ok",
     "timestamp": 1693366259063,
     "user": {
      "displayName": "Nathan Ramos",
      "userId": "15932077234235285562"
     },
     "user_tz": 300
    },
    "id": "LON_9O5dAtEk",
    "outputId": "6805401a-a70d-479c-afe5-5628c21d7936"
   },
   "outputs": [],
   "source": [
    "market_prices = historical_prices / historical_prices.iloc[0] * 100\n",
    "market_prices = (market_weights * market_prices).sum(axis=1)"
   ]
  },
  {
   "cell_type": "markdown",
   "metadata": {
    "tags": []
   },
   "source": [
    "In the next sections, we will delve deeper into portfolio optimization techniques, leveraging this extracted data."
   ]
  },
  {
   "cell_type": "markdown",
   "metadata": {
    "id": "SvVI_JrHc5xp",
    "tags": []
   },
   "source": [
    "## Risk Model"
   ]
  },
  {
   "cell_type": "markdown",
   "metadata": {},
   "source": [
    "In this section, we focus on understanding the risks associated with the assets in our portfolio. To do so, we calculate the covariance matrix, which shows how different assets in the portfolio move in relation to each other. This is crucial for risk diversification and for selecting the best risk-adjusted portfolio.\n",
    "\n",
    "Here are the key steps:\n",
    "\n",
    "1) **Calculate Covariance Matrix**: We use the `risk_matrix` function from the risk model library (`rm`) to calculate the covariance matrix of historical prices.\n",
    "  \n",
    "2) **Fix Non-Positive Semidefinite Matrix**: Covariance matrices should be positive semidefinite. However, due to numerical issues or other complexities, this might not always be the case. We use `fix_nonpositive_semidefinite` to adjust the matrix as needed.\n",
    "\n",
    "3) **Visualize Correlation Matrix**: Finally, we visualize the correlation matrix which is a normalized version of the covariance matrix. This helps in understanding how different assets are related to each other.\n",
    "\n",
    "The \"oracle approximating\" method is employed for estimating the covariance matrix. This method aims to provide an optimal estimate of the true covariance matrix by employing a shrinkage-like technique. By adjusting the original sample covariance matrix towards a target, the \"oracle approximating\" method improves the matrix's condition and stability, which are essential for further financial analyses."
   ]
  },
  {
   "cell_type": "code",
   "execution_count": 28,
   "metadata": {
    "colab": {
     "base_uri": "https://localhost:8080/",
     "height": 206
    },
    "executionInfo": {
     "elapsed": 51,
     "status": "ok",
     "timestamp": 1693366259063,
     "user": {
      "displayName": "Nathan Ramos",
      "userId": "15932077234235285562"
     },
     "user_tz": 300
    },
    "id": "CDkEP0ZNWB3C",
    "outputId": "4c53d4fa-8548-493a-d27b-d7f4e4b2b5d7"
   },
   "outputs": [
    {
     "data": {
      "text/html": [
       "<div>\n",
       "<style scoped>\n",
       "    .dataframe tbody tr th:only-of-type {\n",
       "        vertical-align: middle;\n",
       "    }\n",
       "\n",
       "    .dataframe tbody tr th {\n",
       "        vertical-align: top;\n",
       "    }\n",
       "\n",
       "    .dataframe thead th {\n",
       "        text-align: right;\n",
       "    }\n",
       "</style>\n",
       "<table border=\"1\" class=\"dataframe\">\n",
       "  <thead>\n",
       "    <tr style=\"text-align: right;\">\n",
       "      <th>symbol</th>\n",
       "      <th>BND</th>\n",
       "      <th>GBTC</th>\n",
       "      <th>GLD</th>\n",
       "      <th>SPY</th>\n",
       "    </tr>\n",
       "    <tr>\n",
       "      <th>symbol</th>\n",
       "      <th></th>\n",
       "      <th></th>\n",
       "      <th></th>\n",
       "      <th></th>\n",
       "    </tr>\n",
       "  </thead>\n",
       "  <tbody>\n",
       "    <tr>\n",
       "      <th>BND</th>\n",
       "      <td>0.003228</td>\n",
       "      <td>0.003435</td>\n",
       "      <td>0.002807</td>\n",
       "      <td>0.001019</td>\n",
       "    </tr>\n",
       "    <tr>\n",
       "      <th>GBTC</th>\n",
       "      <td>0.003435</td>\n",
       "      <td>0.809014</td>\n",
       "      <td>0.013232</td>\n",
       "      <td>0.038098</td>\n",
       "    </tr>\n",
       "    <tr>\n",
       "      <th>GLD</th>\n",
       "      <td>0.002807</td>\n",
       "      <td>0.013232</td>\n",
       "      <td>0.019835</td>\n",
       "      <td>0.000833</td>\n",
       "    </tr>\n",
       "    <tr>\n",
       "      <th>SPY</th>\n",
       "      <td>0.001019</td>\n",
       "      <td>0.038098</td>\n",
       "      <td>0.000833</td>\n",
       "      <td>0.034406</td>\n",
       "    </tr>\n",
       "  </tbody>\n",
       "</table>\n",
       "</div>"
      ],
      "text/plain": [
       "symbol       BND      GBTC       GLD       SPY\n",
       "symbol                                        \n",
       "BND     0.003228  0.003435  0.002807  0.001019\n",
       "GBTC    0.003435  0.809014  0.013232  0.038098\n",
       "GLD     0.002807  0.013232  0.019835  0.000833\n",
       "SPY     0.001019  0.038098  0.000833  0.034406"
      ]
     },
     "execution_count": 28,
     "metadata": {},
     "output_type": "execute_result"
    }
   ],
   "source": [
    "# Calculate the covariance matrix using oracle approximating method\n",
    "covariance_matrix = rm.risk_matrix(historical_prices, method='oracle_approximating')\n",
    "\n",
    "# Fix non-positive semidefinite issues if any\n",
    "covariance_matrix = rm.fix_nonpositive_semidefinite(covariance_matrix)\n",
    "\n",
    "# Display the covariance matrix\n",
    "covariance_matrix"
   ]
  },
  {
   "cell_type": "code",
   "execution_count": 29,
   "metadata": {
    "colab": {
     "base_uri": "https://localhost:8080/",
     "height": 497
    },
    "executionInfo": {
     "elapsed": 947,
     "status": "ok",
     "timestamp": 1693366259959,
     "user": {
      "displayName": "Nathan Ramos",
      "userId": "15932077234235285562"
     },
     "user_tz": 300
    },
    "id": "PxUDgSEYFyj4",
    "outputId": "f355f769-94e0-4e7a-bc6b-b2e6d25a7741"
   },
   "outputs": [
    {
     "name": "stdout",
     "output_type": "stream",
     "text": [
      "Correlation Matrix Plot\n"
     ]
    },
    {
     "data": {
      "image/png": "[encoded data removed]",
      "text/plain": [
       "<Figure size 640x480 with 2 Axes>"
      ]
     },
     "metadata": {},
     "output_type": "display_data"
    }
   ],
   "source": [
    "print('Correlation Matrix Plot')\n",
    "plotting.plot_covariance(covariance_matrix, plot_correlation=True, show_tickers=True);"
   ]
  },
  {
   "cell_type": "markdown",
   "metadata": {},
   "source": [
    "By analyzing the correlation matrix, we can get an idea of which assets have similar behavior and which ones offer good diversification opportunities. The closer the correlation value is to 1, the more similar the assets behave. On the other hand, a correlation close to -1 indicates a strong negative relationship, offering diversification benefits."
   ]
  },
  {
   "cell_type": "markdown",
   "metadata": {
    "id": "q3X72_gUi5gG"
   },
   "source": [
    "## Market-Implied Expected Return"
   ]
  },
  {
   "cell_type": "markdown",
   "metadata": {},
   "source": [
    "In this section, we compute the market-implied expected returns based on the market risk aversion, covariance matrix, risk free rate and market capitalizations. These expected returns serve as the prior beliefs in the Black-Litterman model. We also visualize these returns for a clearer understanding of what the market implies about the future.\n",
    "\n",
    "Key steps include:\n",
    "\n",
    "1. **Calculate Market-Implied Risk Aversion (Delta)**: This parameter quantifies the market's tolerance for risk and is a crucial input for the Black-Litterman model.\n",
    "\n",
    "2. **Compute Market-Implied Prior Returns**: Using market capitalizations, delta, and the covariance matrix, we calculate these returns.\n",
    "\n",
    "3. **Visualization**: A bar chart presents these market-implied expected returns."
   ]
  },
  {
   "cell_type": "code",
   "execution_count": 30,
   "metadata": {
    "colab": {
     "base_uri": "https://localhost:8080/"
    },
    "executionInfo": {
     "elapsed": 6,
     "status": "ok",
     "timestamp": 1693366259959,
     "user": {
      "displayName": "Nathan Ramos",
      "userId": "15932077234235285562"
     },
     "user_tz": 300
    },
    "id": "rf-u_y13lWGg",
    "outputId": "2564e707-13dd-4a66-9fb0-a8fb20d963d8"
   },
   "outputs": [
    {
     "data": {
      "text/plain": [
       "symbol\n",
       "BND     0.0490\n",
       "GBTC    0.1377\n",
       "GLD     0.0527\n",
       "SPY     0.1123\n",
       "dtype: float64"
      ]
     },
     "execution_count": 30,
     "metadata": {},
     "output_type": "execute_result"
    }
   ],
   "source": [
    "delta = black_litterman.market_implied_risk_aversion(market_prices)\n",
    "market_implied_expected_returns = black_litterman.market_implied_prior_returns(market_caps, delta, covariance_matrix, risk_free_rate).astype(float).round(4)\n",
    "market_implied_expected_returns"
   ]
  },
  {
   "cell_type": "code",
   "execution_count": 31,
   "metadata": {
    "tags": []
   },
   "outputs": [
    {
     "data": {
      "image/png": "[encoded data removed]",
      "text/plain": [
       "<Figure size 640x480 with 1 Axes>"
      ]
     },
     "metadata": {},
     "output_type": "display_data"
    }
   ],
   "source": [
    "def format_with_commas(x, pos):\n",
    "    return '{:,.0%}'.format(x)\n",
    "\n",
    "fig, ax = plt.subplots()\n",
    "\n",
    "ax.bar(list(market_implied_expected_returns.index), list(market_implied_expected_returns.values))\n",
    "formatter = FuncFormatter(format_with_commas)\n",
    "ax.yaxis.set_major_formatter(formatter)\n",
    "\n",
    "plt.title('Market-Implied Expected Return (%)')\n",
    "\n",
    "plt.grid()\n",
    "plt.show();"
   ]
  },
  {
   "cell_type": "markdown",
   "metadata": {
    "tags": []
   },
   "source": [
    "## Posterior Expected Return"
   ]
  },
  {
   "cell_type": "markdown",
   "metadata": {},
   "source": [
    "In this section, we incorporate the investor's views into our model to generate the posterior expected returns. This gives us an adjusted set of expected returns, combining market expectations and our own views.\n",
    "\n",
    "Key steps are as follows:\n",
    "\n",
    "1) Investor Views and Confidences: These are the rates of return we expect for certain assets and how confident we are in these views.\n",
    "\n",
    "2) Black-Litterman Model: We use this model to combine our views and the market-implied prior to arrive at a new set of expected returns.\n",
    "\n",
    "3) Clip the Returns: The Black-Litterman model can sometimes generate extreme values, which we clip to a range defined by the minimum and maximum between our views and the market-implied expected returns.\n",
    "\n",
    "4) Visualization: A bar chart presents these posterior expected returns."
   ]
  },
  {
   "cell_type": "code",
   "execution_count": 32,
   "metadata": {},
   "outputs": [],
   "source": [
    "investor_views = {\n",
    "    'SPY': 0.0044,\n",
    "    'BND': 0.0500\n",
    "}"
   ]
  },
  {
   "cell_type": "code",
   "execution_count": 33,
   "metadata": {},
   "outputs": [],
   "source": [
    "view_confidences = pd.Series({\n",
    "    'SPY': 0.4415,\n",
    "    'BND': 0.5000\n",
    "})"
   ]
  },
  {
   "cell_type": "code",
   "execution_count": 34,
   "metadata": {},
   "outputs": [],
   "source": [
    "bl = black_litterman.BlackLittermanModel(\n",
    "    covariance_matrix,\n",
    "    pi='market',\n",
    "    absolute_views=investor_views,\n",
    "    risk_aversion=delta,\n",
    "    market_caps=market_caps.loc[portfolio_tickers],\n",
    "    risk_free_rate=risk_free_rate,\n",
    "    omega='idzorek',\n",
    "    view_confidences=list(view_confidences)\n",
    ")"
   ]
  },
  {
   "cell_type": "code",
   "execution_count": 35,
   "metadata": {},
   "outputs": [],
   "source": [
    "posterior_covariance_matrix = bl.bl_cov()\n",
    "posterior_expected_returns = bl.bl_returns()"
   ]
  },
  {
   "cell_type": "code",
   "execution_count": 36,
   "metadata": {},
   "outputs": [
    {
     "data": {
      "text/plain": [
       "symbol\n",
       "BND     0.0490\n",
       "GBTC    0.1377\n",
       "GLD     0.0527\n",
       "SPY     0.0649\n",
       "dtype: float64"
      ]
     },
     "execution_count": 36,
     "metadata": {},
     "output_type": "execute_result"
    }
   ],
   "source": [
    "investor_views = pd.Series(investor_views)\n",
    "min_values = pd.concat([market_implied_expected_returns, investor_views], axis=1).min(axis=1)\n",
    "max_values = pd.concat([market_implied_expected_returns, investor_views], axis=1).max(axis=1)\n",
    "posterior_expected_returns = round(posterior_expected_returns.clip(lower=min_values, upper=max_values), 4)\n",
    "posterior_expected_returns"
   ]
  },
  {
   "cell_type": "code",
   "execution_count": 37,
   "metadata": {
    "tags": []
   },
   "outputs": [
    {
     "data": {
      "image/png": "[encoded data removed]",
      "text/plain": [
       "<Figure size 640x480 with 1 Axes>"
      ]
     },
     "metadata": {},
     "output_type": "display_data"
    }
   ],
   "source": [
    "def format_with_percent(x, pos):\n",
    "    return '{:,.0%}'.format(x)\n",
    "\n",
    "fig, ax = plt.subplots()\n",
    "\n",
    "ax.bar(list(posterior_expected_returns.index), list(posterior_expected_returns.values))\n",
    "formatter = FuncFormatter(format_with_percent)\n",
    "ax.yaxis.set_major_formatter(formatter)\n",
    "\n",
    "plt.title('Posterior Expected Return (%)')\n",
    "\n",
    "plt.grid()\n",
    "plt.show();"
   ]
  },
  {
   "cell_type": "markdown",
   "metadata": {},
   "source": [
    "By the end of this section, you will have a nuanced understanding of the expected returns, combining both market expectations and your own views. This will serve as a cornerstone for the portfolio optimization process that follows."
   ]
  },
  {
   "cell_type": "markdown",
   "metadata": {
    "id": "hVuALcR6G5JI"
   },
   "source": [
    "## Compute Efficient Frontier"
   ]
  },
  {
   "cell_type": "markdown",
   "metadata": {},
   "source": [
    "In this section, we compute the Efficient Frontier using Efficient Semivariance. This involves optimizing the portfolio for varying levels of risk to find the portfolio that offers the maximum expected return for a given level of risk. Additionally, we identify the optimal portfolio, which is the one that maximizes the Sortino Ratio.\n",
    "\n",
    "The key steps are as follows:\n",
    "\n",
    "1) **Initialize DataFrames**: Create DataFrames to store portfolio performances (`performance_df_optimal`) and weights (`weights_df_optimal`).\n",
    "\n",
    "2) **Find Minimum Risk Portfolio**: Attempt to find the portfolio with the lowest possible risk, which serves as our starting point.\n",
    "\n",
    "3) **First Optimization Loop**: Perform a loop to find the highest possible risk (`max_risk`) for the Efficient Frontier.\n",
    "\n",
    "4) **Second Optimization Loop**: Run the portfolio optimization for different risk levels between the minimum and maximum risk to build the Efficient Frontier.\n",
    "\n",
    "5) **Identify Optimal Portfolio**: Out of all portfolios on the Efficient Frontier, identify the one with the highest Sortino Ratio as the optimal portfolio.\n",
    "\n",
    "6) **Visualize the Efficient Frontier**: Plot the portfolios on the Efficient Frontier along with the Capital Market Line."
   ]
  },
  {
   "cell_type": "code",
   "execution_count": 38,
   "metadata": {
    "colab": {
     "base_uri": "https://localhost:8080/"
    },
    "executionInfo": {
     "elapsed": 64621,
     "status": "ok",
     "timestamp": 1693366324575,
     "user": {
      "displayName": "Nathan Ramos",
      "userId": "15932077234235285562"
     },
     "user_tz": 300
    },
    "id": "YaUEI2wp3u5u",
    "outputId": "b0ab4ba2-c312-4a54-8ab9-1e9afd2b117a"
   },
   "outputs": [
    {
     "name": "stderr",
     "output_type": "stream",
     "text": [
      "0it [00:00, ?it/s]C:\\Users\\25del\\anaconda3\\envs\\nrcapital\\Lib\\site-packages\\cvxpy\\problems\\problem.py:1387: UserWarning: Solution may be inaccurate. Try another solver, adjusting the solver settings, or solve with verbose=True for more information.\n",
      "  warnings.warn(\n",
      "1it [00:00,  2.75it/s]C:\\Users\\25del\\anaconda3\\envs\\nrcapital\\Lib\\site-packages\\cvxpy\\problems\\problem.py:1387: UserWarning: Solution may be inaccurate. Try another solver, adjusting the solver settings, or solve with verbose=True for more information.\n",
      "  warnings.warn(\n",
      "10it [00:04,  2.43it/s]\n",
      "0it [00:00, ?it/s]C:\\Users\\25del\\anaconda3\\envs\\nrcapital\\Lib\\site-packages\\cvxpy\\problems\\problem.py:1387: UserWarning: Solution may be inaccurate. Try another solver, adjusting the solver settings, or solve with verbose=True for more information.\n",
      "  warnings.warn(\n",
      "99it [00:12,  8.14it/s]\n"
     ]
    }
   ],
   "source": [
    "# Initialize dataframes to store portfolio performances and weights\n",
    "performance_df_optimal = pd.DataFrame(columns=['Expected annual return', 'Annual semi-deviation', 'Sortino ratio'])\n",
    "weights_df_optimal = pd.DataFrame()\n",
    "\n",
    "# Find the minimum risk portfolio\n",
    "try:\n",
    "    es = EfficientSemivariance(posterior_expected_returns, expected_returns.returns_from_prices(historical_prices), weight_bounds=weight_bounds)\n",
    "    es.min_semivariance()\n",
    "    min_risk_performance = es.portfolio_performance(risk_free_rate=risk_free_rate)\n",
    "    min_risk = min_risk_performance[1]\n",
    "    \n",
    "    # Store the min_risk_performance and weights as the first entry\n",
    "    performance_df_optimal.loc[1] = min_risk_performance\n",
    "    min_risk_weights = pd.DataFrame(list(es.clean_weights().items()), columns=['symbol', 'weight']).set_index('symbol')\n",
    "    min_risk_weights.columns = [1]\n",
    "    weights_df_optimal = min_risk_weights\n",
    "    \n",
    "except OptimizationError:\n",
    "    print(\"Failed to find minimum risk portfolio.\")\n",
    "    min_risk = 0.0025\n",
    "\n",
    "# Run the first optimization loop to find max_risk\n",
    "successful_runs = 1  # Start at 1 because we've already added the minimum risk portfolio\n",
    "max_risk = 0  # Initialize max_risk to zero\n",
    "\n",
    "for i, target_risk in tqdm(enumerate(np.linspace(min_risk + 0.0005, 1.0, 10))):\n",
    "    while True:  # Infinite loop to keep retrying with incremented target_risk\n",
    "        try:\n",
    "            historical_returns = expected_returns.returns_from_prices(historical_prices)\n",
    "            es = EfficientSemivariance(posterior_expected_returns, historical_returns, weight_bounds=weight_bounds)\n",
    "            es.efficient_risk(target_risk)\n",
    "            performance = es.portfolio_performance(risk_free_rate=risk_free_rate)\n",
    "            \n",
    "            # Update max_risk if this portfolio has higher risk\n",
    "            max_risk = max(max_risk, performance[1])\n",
    "\n",
    "            # If no error, break the infinite loop\n",
    "            break\n",
    "\n",
    "        except SolverError:  # Catch the specific SolverError\n",
    "            target_risk += 0.0005  # increment target_risk by 0.0005\n",
    "            continue  # continue the while loop\n",
    "\n",
    "        except OptimizationError:  # Catch the specific OptimizationError\n",
    "            break  # break the infinite loop and continue with the next 'target_risk' value\n",
    "\n",
    "# Now max_risk contains the maximum semi-deviation observed\n",
    "risk_range = np.linspace(min_risk + 0.0005, max_risk, 99)  # Use 99 because the first portfolio is already there\n",
    "\n",
    "for i, target_risk in tqdm(enumerate(risk_range)):\n",
    "    if successful_runs >= 100:  # Stop if 100 successful portfolios are generated\n",
    "        break\n",
    "\n",
    "    while True:  # Infinite loop to keep retrying with incremented target_risk\n",
    "        try:\n",
    "            # Run the optimization\n",
    "            historical_returns = expected_returns.returns_from_prices(historical_prices)\n",
    "            es = EfficientSemivariance(posterior_expected_returns, historical_returns, weight_bounds=weight_bounds)\n",
    "            es.efficient_risk(target_risk)\n",
    "            weights = es.clean_weights()\n",
    "\n",
    "            # Store the performance\n",
    "            performance = es.portfolio_performance(risk_free_rate=risk_free_rate)\n",
    "            performance_df_optimal.loc[successful_runs + 1] = performance\n",
    "\n",
    "            # Convert weights to dataframe and store\n",
    "            temp_weights_df = pd.DataFrame(list(weights.items()), columns=['symbol', 'weight']).set_index('symbol')\n",
    "            temp_weights_df.columns = [successful_runs + 1]\n",
    "            weights_df_optimal = pd.concat([weights_df_optimal, temp_weights_df], axis=1)\n",
    "\n",
    "            successful_runs += 1\n",
    "\n",
    "            # If no error, break the infinite loop\n",
    "            break\n",
    "\n",
    "        except SolverError:  # Catch the specific SolverError\n",
    "            target_risk += 0.0005  # increment target_risk by 0.0005\n",
    "            continue  # continue the while loop\n",
    "\n",
    "        except OptimizationError:  # Catch the specific OptimizationError\n",
    "            break  # break the infinite loop and continue with the next 'target_risk' value\n",
    "\n",
    "performance_df_optimal = round(performance_df_optimal.T, 4)\n",
    "weights_df_optimal = round(weights_df_optimal, 4)"
   ]
  },
  {
   "cell_type": "code",
   "execution_count": 39,
   "metadata": {
    "colab": {
     "base_uri": "https://localhost:8080/"
    },
    "executionInfo": {
     "elapsed": 62,
     "status": "ok",
     "timestamp": 1693366324576,
     "user": {
      "displayName": "Nathan Ramos",
      "userId": "15932077234235285562"
     },
     "user_tz": 300
    },
    "id": "J8ZtdiM7II2n",
    "outputId": "d65a4ab4-6ffe-4638-c93c-e39674a6fed5"
   },
   "outputs": [
    {
     "name": "stdout",
     "output_type": "stream",
     "text": [
      "The optimal portfolio is Portfolio 15 with the following details:\n",
      "Expected annual return    0.0557\n",
      "Annual semi-deviation     0.0525\n",
      "Sortino ratio             0.2662\n",
      "Name: 15, dtype: float64\n",
      "\n",
      "\n",
      "The optimal weights in Portfolio 15: \n",
      "symbol\n",
      "BND     0.6826\n",
      "GBTC    0.0380\n",
      "GLD     0.0942\n",
      "SPY     0.1852\n",
      "Name: 15, dtype: float64\n"
     ]
    }
   ],
   "source": [
    "# Find the portfolio with the maximum Sortino Ratio\n",
    "optimal_portfolio_index = performance_df_optimal.loc['Sortino ratio'].idxmax() + 1  # +1 because portfolio index starts at 1\n",
    "\n",
    "# Extracting the details of the optimal portfolio\n",
    "optimal_portfolio_details = round(performance_df_optimal.iloc[:, optimal_portfolio_index - 1], 4)  # -1 because DataFrame index starts at 0\n",
    "\n",
    "print(f\"The optimal portfolio is Portfolio {optimal_portfolio_index} with the following details:\")\n",
    "print(optimal_portfolio_details)\n",
    "print(\"\\n\")\n",
    "print(f\"The optimal weights in Portfolio {optimal_portfolio_index}: \")\n",
    "print(weights_df_optimal[optimal_portfolio_index])"
   ]
  },
  {
   "cell_type": "code",
   "execution_count": 40,
   "metadata": {
    "colab": {
     "base_uri": "https://localhost:8080/",
     "height": 173
    },
    "executionInfo": {
     "elapsed": 59,
     "status": "ok",
     "timestamp": 1693366324576,
     "user": {
      "displayName": "Nathan Ramos",
      "userId": "15932077234235285562"
     },
     "user_tz": 300
    },
    "id": "bYEkqJ7R8Dag",
    "outputId": "8cc0af13-49d7-4853-e534-43c80feb3271"
   },
   "outputs": [
    {
     "data": {
      "text/html": [
       "<div>\n",
       "<style scoped>\n",
       "    .dataframe tbody tr th:only-of-type {\n",
       "        vertical-align: middle;\n",
       "    }\n",
       "\n",
       "    .dataframe tbody tr th {\n",
       "        vertical-align: top;\n",
       "    }\n",
       "\n",
       "    .dataframe thead th {\n",
       "        text-align: right;\n",
       "    }\n",
       "</style>\n",
       "<table border=\"1\" class=\"dataframe\">\n",
       "  <thead>\n",
       "    <tr style=\"text-align: right;\">\n",
       "      <th></th>\n",
       "      <th>1</th>\n",
       "      <th>2</th>\n",
       "      <th>3</th>\n",
       "      <th>4</th>\n",
       "      <th>5</th>\n",
       "      <th>6</th>\n",
       "      <th>7</th>\n",
       "      <th>8</th>\n",
       "      <th>9</th>\n",
       "      <th>10</th>\n",
       "      <th>...</th>\n",
       "      <th>91</th>\n",
       "      <th>92</th>\n",
       "      <th>93</th>\n",
       "      <th>94</th>\n",
       "      <th>95</th>\n",
       "      <th>96</th>\n",
       "      <th>97</th>\n",
       "      <th>98</th>\n",
       "      <th>99</th>\n",
       "      <th>100</th>\n",
       "    </tr>\n",
       "  </thead>\n",
       "  <tbody>\n",
       "    <tr>\n",
       "      <th>Expected annual return</th>\n",
       "      <td>0.0500</td>\n",
       "      <td>0.0512</td>\n",
       "      <td>0.0515</td>\n",
       "      <td>0.0520</td>\n",
       "      <td>0.0525</td>\n",
       "      <td>0.0529</td>\n",
       "      <td>0.0533</td>\n",
       "      <td>0.0536</td>\n",
       "      <td>0.0539</td>\n",
       "      <td>0.0543</td>\n",
       "      <td>...</td>\n",
       "      <td>0.0677</td>\n",
       "      <td>0.0678</td>\n",
       "      <td>0.0679</td>\n",
       "      <td>0.0680</td>\n",
       "      <td>0.0681</td>\n",
       "      <td>0.0682</td>\n",
       "      <td>0.0683</td>\n",
       "      <td>0.0684</td>\n",
       "      <td>0.0684</td>\n",
       "      <td>0.0685</td>\n",
       "    </tr>\n",
       "    <tr>\n",
       "      <th>Annual semi-deviation</th>\n",
       "      <td>0.0390</td>\n",
       "      <td>0.0400</td>\n",
       "      <td>0.0405</td>\n",
       "      <td>0.0415</td>\n",
       "      <td>0.0425</td>\n",
       "      <td>0.0435</td>\n",
       "      <td>0.0445</td>\n",
       "      <td>0.0455</td>\n",
       "      <td>0.0465</td>\n",
       "      <td>0.0475</td>\n",
       "      <td>...</td>\n",
       "      <td>0.1283</td>\n",
       "      <td>0.1293</td>\n",
       "      <td>0.1303</td>\n",
       "      <td>0.1313</td>\n",
       "      <td>0.1323</td>\n",
       "      <td>0.1333</td>\n",
       "      <td>0.1343</td>\n",
       "      <td>0.1353</td>\n",
       "      <td>0.1363</td>\n",
       "      <td>0.1372</td>\n",
       "    </tr>\n",
       "    <tr>\n",
       "      <th>Sortino ratio</th>\n",
       "      <td>0.2123</td>\n",
       "      <td>0.2373</td>\n",
       "      <td>0.2417</td>\n",
       "      <td>0.2489</td>\n",
       "      <td>0.2539</td>\n",
       "      <td>0.2575</td>\n",
       "      <td>0.2601</td>\n",
       "      <td>0.2621</td>\n",
       "      <td>0.2635</td>\n",
       "      <td>0.2645</td>\n",
       "      <td>...</td>\n",
       "      <td>0.2024</td>\n",
       "      <td>0.2016</td>\n",
       "      <td>0.2008</td>\n",
       "      <td>0.2000</td>\n",
       "      <td>0.1993</td>\n",
       "      <td>0.1985</td>\n",
       "      <td>0.1978</td>\n",
       "      <td>0.1970</td>\n",
       "      <td>0.1963</td>\n",
       "      <td>0.1956</td>\n",
       "    </tr>\n",
       "  </tbody>\n",
       "</table>\n",
       "<p>3 rows × 100 columns</p>\n",
       "</div>"
      ],
      "text/plain": [
       "                           1       2       3       4       5       6    \\\n",
       "Expected annual return  0.0500  0.0512  0.0515  0.0520  0.0525  0.0529   \n",
       "Annual semi-deviation   0.0390  0.0400  0.0405  0.0415  0.0425  0.0435   \n",
       "Sortino ratio           0.2123  0.2373  0.2417  0.2489  0.2539  0.2575   \n",
       "\n",
       "                           7       8       9       10   ...     91      92   \\\n",
       "Expected annual return  0.0533  0.0536  0.0539  0.0543  ...  0.0677  0.0678   \n",
       "Annual semi-deviation   0.0445  0.0455  0.0465  0.0475  ...  0.1283  0.1293   \n",
       "Sortino ratio           0.2601  0.2621  0.2635  0.2645  ...  0.2024  0.2016   \n",
       "\n",
       "                           93      94      95      96      97      98   \\\n",
       "Expected annual return  0.0679  0.0680  0.0681  0.0682  0.0683  0.0684   \n",
       "Annual semi-deviation   0.1303  0.1313  0.1323  0.1333  0.1343  0.1353   \n",
       "Sortino ratio           0.2008  0.2000  0.1993  0.1985  0.1978  0.1970   \n",
       "\n",
       "                           99      100  \n",
       "Expected annual return  0.0684  0.0685  \n",
       "Annual semi-deviation   0.1363  0.1372  \n",
       "Sortino ratio           0.1963  0.1956  \n",
       "\n",
       "[3 rows x 100 columns]"
      ]
     },
     "execution_count": 40,
     "metadata": {},
     "output_type": "execute_result"
    }
   ],
   "source": [
    "performance_df_optimal"
   ]
  },
  {
   "cell_type": "code",
   "execution_count": 41,
   "metadata": {
    "tags": []
   },
   "outputs": [
    {
     "data": {
      "text/html": [
       "<div>\n",
       "<style scoped>\n",
       "    .dataframe tbody tr th:only-of-type {\n",
       "        vertical-align: middle;\n",
       "    }\n",
       "\n",
       "    .dataframe tbody tr th {\n",
       "        vertical-align: top;\n",
       "    }\n",
       "\n",
       "    .dataframe thead th {\n",
       "        text-align: right;\n",
       "    }\n",
       "</style>\n",
       "<table border=\"1\" class=\"dataframe\">\n",
       "  <thead>\n",
       "    <tr style=\"text-align: right;\">\n",
       "      <th></th>\n",
       "      <th>shortName</th>\n",
       "      <th>1</th>\n",
       "      <th>2</th>\n",
       "      <th>3</th>\n",
       "      <th>4</th>\n",
       "      <th>5</th>\n",
       "      <th>6</th>\n",
       "      <th>7</th>\n",
       "      <th>8</th>\n",
       "      <th>9</th>\n",
       "      <th>...</th>\n",
       "      <th>91</th>\n",
       "      <th>92</th>\n",
       "      <th>93</th>\n",
       "      <th>94</th>\n",
       "      <th>95</th>\n",
       "      <th>96</th>\n",
       "      <th>97</th>\n",
       "      <th>98</th>\n",
       "      <th>99</th>\n",
       "      <th>100</th>\n",
       "    </tr>\n",
       "  </thead>\n",
       "  <tbody>\n",
       "    <tr>\n",
       "      <th>BND</th>\n",
       "      <td>Vanguard Total Bond Market ETF</td>\n",
       "      <td>0.9239</td>\n",
       "      <td>0.8518</td>\n",
       "      <td>0.8403</td>\n",
       "      <td>0.8192</td>\n",
       "      <td>0.8011</td>\n",
       "      <td>0.7853</td>\n",
       "      <td>0.7715</td>\n",
       "      <td>0.7582</td>\n",
       "      <td>0.7460</td>\n",
       "      <td>...</td>\n",
       "      <td>0.0000</td>\n",
       "      <td>0.0000</td>\n",
       "      <td>0.0000</td>\n",
       "      <td>0.0000</td>\n",
       "      <td>0.0000</td>\n",
       "      <td>0.0000</td>\n",
       "      <td>0.0000</td>\n",
       "      <td>0.000</td>\n",
       "      <td>0.0000</td>\n",
       "      <td>0.00</td>\n",
       "    </tr>\n",
       "    <tr>\n",
       "      <th>GBTC</th>\n",
       "      <td>GRAYSCALE BITCOIN TRUST BTC</td>\n",
       "      <td>0.0000</td>\n",
       "      <td>0.0053</td>\n",
       "      <td>0.0073</td>\n",
       "      <td>0.0112</td>\n",
       "      <td>0.0146</td>\n",
       "      <td>0.0176</td>\n",
       "      <td>0.0204</td>\n",
       "      <td>0.0230</td>\n",
       "      <td>0.0254</td>\n",
       "      <td>...</td>\n",
       "      <td>0.0500</td>\n",
       "      <td>0.0500</td>\n",
       "      <td>0.0500</td>\n",
       "      <td>0.0500</td>\n",
       "      <td>0.0500</td>\n",
       "      <td>0.0500</td>\n",
       "      <td>0.0500</td>\n",
       "      <td>0.050</td>\n",
       "      <td>0.0500</td>\n",
       "      <td>0.05</td>\n",
       "    </tr>\n",
       "    <tr>\n",
       "      <th>GLD</th>\n",
       "      <td>SPDR Gold Trust</td>\n",
       "      <td>0.0197</td>\n",
       "      <td>0.0442</td>\n",
       "      <td>0.0482</td>\n",
       "      <td>0.0551</td>\n",
       "      <td>0.0608</td>\n",
       "      <td>0.0657</td>\n",
       "      <td>0.0698</td>\n",
       "      <td>0.0736</td>\n",
       "      <td>0.0771</td>\n",
       "      <td>...</td>\n",
       "      <td>0.0721</td>\n",
       "      <td>0.0638</td>\n",
       "      <td>0.0558</td>\n",
       "      <td>0.0474</td>\n",
       "      <td>0.0394</td>\n",
       "      <td>0.0312</td>\n",
       "      <td>0.0232</td>\n",
       "      <td>0.015</td>\n",
       "      <td>0.0075</td>\n",
       "      <td>0.00</td>\n",
       "    </tr>\n",
       "    <tr>\n",
       "      <th>SPY</th>\n",
       "      <td>SPDR S&amp;P 500</td>\n",
       "      <td>0.0564</td>\n",
       "      <td>0.0987</td>\n",
       "      <td>0.1042</td>\n",
       "      <td>0.1145</td>\n",
       "      <td>0.1234</td>\n",
       "      <td>0.1314</td>\n",
       "      <td>0.1383</td>\n",
       "      <td>0.1452</td>\n",
       "      <td>0.1515</td>\n",
       "      <td>...</td>\n",
       "      <td>0.8779</td>\n",
       "      <td>0.8862</td>\n",
       "      <td>0.8942</td>\n",
       "      <td>0.9026</td>\n",
       "      <td>0.9106</td>\n",
       "      <td>0.9188</td>\n",
       "      <td>0.9268</td>\n",
       "      <td>0.935</td>\n",
       "      <td>0.9425</td>\n",
       "      <td>0.95</td>\n",
       "    </tr>\n",
       "  </tbody>\n",
       "</table>\n",
       "<p>4 rows × 101 columns</p>\n",
       "</div>"
      ],
      "text/plain": [
       "                           shortName       1       2       3       4       5  \\\n",
       "BND   Vanguard Total Bond Market ETF  0.9239  0.8518  0.8403  0.8192  0.8011   \n",
       "GBTC     GRAYSCALE BITCOIN TRUST BTC  0.0000  0.0053  0.0073  0.0112  0.0146   \n",
       "GLD                  SPDR Gold Trust  0.0197  0.0442  0.0482  0.0551  0.0608   \n",
       "SPY                     SPDR S&P 500  0.0564  0.0987  0.1042  0.1145  0.1234   \n",
       "\n",
       "           6       7       8       9  ...      91      92      93      94  \\\n",
       "BND   0.7853  0.7715  0.7582  0.7460  ...  0.0000  0.0000  0.0000  0.0000   \n",
       "GBTC  0.0176  0.0204  0.0230  0.0254  ...  0.0500  0.0500  0.0500  0.0500   \n",
       "GLD   0.0657  0.0698  0.0736  0.0771  ...  0.0721  0.0638  0.0558  0.0474   \n",
       "SPY   0.1314  0.1383  0.1452  0.1515  ...  0.8779  0.8862  0.8942  0.9026   \n",
       "\n",
       "          95      96      97     98      99   100  \n",
       "BND   0.0000  0.0000  0.0000  0.000  0.0000  0.00  \n",
       "GBTC  0.0500  0.0500  0.0500  0.050  0.0500  0.05  \n",
       "GLD   0.0394  0.0312  0.0232  0.015  0.0075  0.00  \n",
       "SPY   0.9106  0.9188  0.9268  0.935  0.9425  0.95  \n",
       "\n",
       "[4 rows x 101 columns]"
      ]
     },
     "execution_count": 41,
     "metadata": {},
     "output_type": "execute_result"
    }
   ],
   "source": [
    "pd.concat([names, weights_df_optimal], axis=1)"
   ]
  },
  {
   "cell_type": "code",
   "execution_count": 42,
   "metadata": {
    "colab": {
     "base_uri": "https://localhost:8080/",
     "height": 727
    },
    "executionInfo": {
     "elapsed": 601,
     "status": "ok",
     "timestamp": 1693366325119,
     "user": {
      "displayName": "Nathan Ramos",
      "userId": "15932077234235285562"
     },
     "user_tz": 300
    },
    "id": "0gFuS44W5J23",
    "outputId": "8538c966-9274-4343-d310-4d29810ef68b"
   },
   "outputs": [
    {
     "data": {
      "image/png": "[encoded data removed]",
      "text/plain": [
       "<Figure size 1200x800 with 1 Axes>"
      ]
     },
     "metadata": {},
     "output_type": "display_data"
    }
   ],
   "source": [
    "with plt.style.context('dark_background'):\n",
    "    # Plotting\n",
    "    plt.figure(figsize=(12, 8))\n",
    "\n",
    "    # Find the optimal portfolio\n",
    "    optimal_portfolio = performance_df_optimal[optimal_portfolio_index]\n",
    "\n",
    "    # Plot the efficient frontier\n",
    "    plt.plot(performance_df_optimal.loc['Annual semi-deviation'], performance_df_optimal.loc['Expected annual return'], c='cyan', label='Efficient Frontier', zorder=1)\n",
    "    plt.xlabel('Annual Semi-Deviation')\n",
    "    plt.ylabel('Expected Annual Return')\n",
    "    plt.title('Efficient Frontier and Capital Market Line')\n",
    "\n",
    "    # Plot the optimal portfolio\n",
    "    plt.scatter(optimal_portfolio['Annual semi-deviation'], optimal_portfolio['Expected annual return'], c='lime', marker='*', label='Optimal Portfolio', zorder=3, s=200)\n",
    "\n",
    "    # Plot the Capital Market Line\n",
    "    x_range = np.linspace(0, max(performance_df_optimal.loc['Annual semi-deviation']), 100)\n",
    "    y_cml = risk_free_rate + ((optimal_portfolio['Expected annual return'] - risk_free_rate) / optimal_portfolio['Annual semi-deviation']) * (x_range)\n",
    "    plt.plot(x_range, y_cml, color='red', linestyle='--', label='Capital Market Line', zorder=2)\n",
    "\n",
    "    plt.legend()\n",
    "    plt.grid()\n",
    "    plt.show();"
   ]
  },
  {
   "cell_type": "markdown",
   "metadata": {},
   "source": [
    "By the end of this section, we will have a clear understanding of the range of risk-return trade-offs available to us, which is crucial for making informed investment decisions."
   ]
  },
  {
   "cell_type": "markdown",
   "metadata": {
    "id": "6-jnjHFK5Ghu"
   },
   "source": [
    "## Monte Carlo Simulation"
   ]
  },
  {
   "cell_type": "markdown",
   "metadata": {},
   "source": [
    "Monte Carlo Simulation offers a stochastic approach to portfolio optimization. Unlike deterministic methods like Efficient Frontier, Monte Carlo simulation generates a multitude of random portfolios. This approach provides a more comprehensive view of the portfolio possibilities within the defined constraints."
   ]
  },
  {
   "cell_type": "markdown",
   "metadata": {},
   "source": [
    "### Key Steps\n",
    "\n",
    "1. **Define Random Weight Function**: Create a function, `random_weights_with_bounds`, to generate portfolio weights within given bounds.\n",
    "\n",
    "2. **Initialize DataFrames**: Create DataFrames (`performance_df_mc` and `weights_df_mc`) to store the performance metrics and weights of each randomly generated portfolio.\n",
    "\n",
    "3. **Generate Random Portfolios**: Loop through `n_portfolios` number of times to create portfolios with random weights, while adhering to the weight bounds.\n",
    "\n",
    "4. **Calculate Portfolio Performance**: For each generated portfolio, use Efficient Semivariance to compute performance metrics such as Expected Annual Return, Annual Semi-Deviation, and Sortino Ratio.\n",
    "\n",
    "5. **Identify Optimal Portfolio**: Among the randomly generated portfolios, identify the one that maximizes the Sortino Ratio.\n",
    "\n",
    "6. **Visualization**: Create a scatter plot that displays the random portfolios along with the Efficient Frontier and Capital Market Line."
   ]
  },
  {
   "cell_type": "code",
   "execution_count": 43,
   "metadata": {
    "tags": []
   },
   "outputs": [
    {
     "name": "stderr",
     "output_type": "stream",
     "text": [
      "100%|████████████████████████████████████████████████████████████████████████████| 10000/10000 [07:08<00:00, 23.31it/s]\n"
     ]
    }
   ],
   "source": [
    "def random_weights_with_bounds(n, weight_bounds):\n",
    "    lower_bounds, upper_bounds = zip(*weight_bounds)\n",
    "    lower_bounds = np.array(lower_bounds)\n",
    "    upper_bounds = np.array(upper_bounds)\n",
    "\n",
    "    weights = np.zeros(n)\n",
    "    remaining = 1.0  # Start with a sum of 1 to allocate\n",
    "\n",
    "    for i in range(n - 1):  # Loop until the second last element\n",
    "        low = max(lower_bounds[i], 0)  # Lower bound for this asset\n",
    "        high = min(upper_bounds[i], remaining - np.sum(lower_bounds[i + 1:]))  # Upper bound while ensuring future lower bounds can be met\n",
    "\n",
    "        if high > low:\n",
    "            w = np.random.uniform(low, high)\n",
    "        else:\n",
    "            w = low  # high and low can be the same when tight bounds exist\n",
    "\n",
    "        weights[i] = w\n",
    "        remaining -= w\n",
    "\n",
    "    weights[-1] = remaining  # Last weight takes the remaining sum to make it 1\n",
    "\n",
    "    return weights\n",
    "\n",
    "# Initialize dataframes to store portfolio performances and weights\n",
    "performance_df_mc = pd.DataFrame(columns=['Expected annual return', 'Annual semi-deviation', 'Sortino ratio'])\n",
    "weights_df_mc = pd.DataFrame()\n",
    "n_portfolios = 10000  # Number of random portfolios to generate\n",
    "\n",
    "# Loop through and generate portfolios\n",
    "for i in tqdm(range(n_portfolios)):\n",
    "    try:\n",
    "        # Generate random weights that obey the weight_bounds\n",
    "        random_weights = random_weights_with_bounds(len(historical_prices.columns), weight_bounds)\n",
    "        \n",
    "        # Convert random_weights to dictionary\n",
    "        random_weights_dict = dict(zip(historical_prices.columns, random_weights))\n",
    "        \n",
    "        es = EfficientSemivariance(posterior_expected_returns, expected_returns.returns_from_prices(historical_prices))\n",
    "        es.set_weights(random_weights_dict)  # Set the weights here\n",
    "        performance = es.portfolio_performance(risk_free_rate=risk_free_rate)\n",
    "        \n",
    "        # Store the performance\n",
    "        performance_df_mc.loc[i] = performance\n",
    "        \n",
    "        # Convert weights to dataframe and store\n",
    "        temp_weights_df = pd.DataFrame(random_weights, index=historical_prices.columns, columns=[i])\n",
    "        if weights_df_mc.empty:\n",
    "            weights_df_mc = temp_weights_df\n",
    "        else:\n",
    "            weights_df_mc = pd.concat([weights_df_mc, temp_weights_df], axis=1)\n",
    "    except OptimizationError:\n",
    "        continue\n",
    "\n",
    "weights_df_mc = weights_df_mc.round(4)\n",
    "\n",
    "# Find portfolio with highest Sortino ratio\n",
    "optimal_portfolio_index_mc = performance_df_mc['Sortino ratio'].idxmax()\n",
    "optimal_portfolio_mc = performance_df_mc.iloc[optimal_portfolio_index_mc].round(4)"
   ]
  },
  {
   "cell_type": "code",
   "execution_count": 44,
   "metadata": {
    "colab": {
     "base_uri": "https://localhost:8080/",
     "height": 727
    },
    "executionInfo": {
     "elapsed": 685,
     "status": "ok",
     "timestamp": 1693366343363,
     "user": {
      "displayName": "Nathan Ramos",
      "userId": "15932077234235285562"
     },
     "user_tz": 300
    },
    "id": "-wGNhwKappGY",
    "outputId": "21eb5548-d34f-45cb-9771-b9dff5fde18e"
   },
   "outputs": [
    {
     "data": {
      "image/png": "[encoded data removed]",
      "text/plain": [
       "<Figure size 1200x800 with 1 Axes>"
      ]
     },
     "metadata": {},
     "output_type": "display_data"
    }
   ],
   "source": [
    "# Plotting\n",
    "with plt.style.context('dark_background'):\n",
    "    plt.figure(figsize=(12, 8))\n",
    "\n",
    "    # Plot random portfolios\n",
    "    plt.scatter(performance_df_mc['Annual semi-deviation'], performance_df_mc['Expected annual return'], c='gold', label='Random Portfolios', zorder=2, s=15)\n",
    "\n",
    "    # Plot Optimal Portfolio\n",
    "    plt.scatter(optimal_portfolio['Annual semi-deviation'], optimal_portfolio['Expected annual return'], c='purple', marker='*', label='Optimal Portfolio', zorder=4, s=200)\n",
    "\n",
    "    # Plot Capital Market Line\n",
    "    x_range = np.linspace(0, max(performance_df_mc['Annual semi-deviation']), 100)\n",
    "    y_cml = risk_free_rate + ((optimal_portfolio['Expected annual return'] - risk_free_rate) / optimal_portfolio['Annual semi-deviation']) * x_range\n",
    "    plt.plot(x_range, y_cml, color='red', linestyle='--', label='Capital Market Line', zorder=1)\n",
    "\n",
    "    # Plot Efficient Frontier\n",
    "    plt.plot(performance_df_optimal.loc['Annual semi-deviation'], performance_df_optimal.loc['Expected annual return'], c='cyan', label='Efficient Frontier', zorder=3, linewidth=3)\n",
    "\n",
    "    plt.xlabel('Annual Semi-Deviation')\n",
    "    plt.ylabel('Expected Annual Return')\n",
    "    plt.title('Efficient Frontier, Random Portfolios, and Capital Market Line')\n",
    "    plt.legend()\n",
    "    plt.grid()\n",
    "    plt.show();"
   ]
  },
  {
   "cell_type": "markdown",
   "metadata": {
    "tags": []
   },
   "source": [
    "The visualization offers a compelling contrast between the Efficient Frontier and the scatter plot of random portfolios. This enables us to identify the optimal portfolio more robustly and to better understand the risk-return trade-offs inherent in the investment landscape."
   ]
  },
  {
   "cell_type": "markdown",
   "metadata": {
    "id": "C1k_lXQ7TyR7"
   },
   "source": [
    "## Portfolio Backtests"
   ]
  },
  {
   "cell_type": "markdown",
   "metadata": {
    "tags": []
   },
   "source": [
    "After determining the optimal portfolio, the next logical step is to test its performance against historical data. Portfolio backtesting is an essential tool for validating a trading strategy, understanding its risks, and estimating its future potential.\n",
    "\n",
    "### Key Components\n",
    "\n",
    "1. **Optimal Strategy Function**: The `optimal_strategy` function backtests the portfolio with the optimal weights determined by Efficient Frontier or Monte Carlo Simulation.\n",
    "\n",
    "2. **Benchmark Strategy Function**: The `benchmark_strategy` function backtests a benchmark portfolio, such as a market index or a 60/40 stock-bond portfolio, for comparison purposes.\n",
    "\n",
    "3. **Random Strategy**: The `random_strategy` function runs backtests on portfolios with randomly selected securities and weights. This can serve as another benchmark.\n",
    "\n",
    "4. **WeighRandomlyWithBounds Class**: This custom bt.Algo class generates random portfolio weights within specified bounds.\n",
    "\n",
    "5. **Backtest Execution**: Both the optimal portfolio and benchmark portfolios are backtested using the bt library.\n",
    "\n",
    "6. **Performance Metrics**: Risk-adjusted performance metrics like Sortino ratio, Sharpe ratio, and others are computed.\n",
    "\n",
    "7. **Visualization**: Multiple plots are used for better visualization, such as a performance comparison and a histogram of random benchmark statistics."
   ]
  },
  {
   "cell_type": "code",
   "execution_count": 45,
   "metadata": {
    "executionInfo": {
     "elapsed": 10,
     "status": "ok",
     "timestamp": 1693366343364,
     "user": {
      "displayName": "Nathan Ramos",
      "userId": "15932077234235285562"
     },
     "user_tz": 300
    },
    "id": "Jn_vnj0XZ_Dh"
   },
   "outputs": [],
   "source": [
    "def optimal_strategy(strategy_name='Optimal Portfolio'):\n",
    "    target_weights = weights_df_optimal[optimal_portfolio_index].to_dict()\n",
    "    # target_weights = target_weights_\n",
    "    portfolio_strategy = bt.Strategy(strategy_name, [\n",
    "        bt.algos.RunMonthly(),\n",
    "        bt.algos.WeighSpecified(**target_weights),\n",
    "        bt.algos.Rebalance()\n",
    "        ])\n",
    "    return bt.Backtest(\n",
    "        portfolio_strategy,\n",
    "        historical_prices,\n",
    "        strategy_name\n",
    "    )\n",
    "\n",
    "# Get the Backtest object for the main strategy\n",
    "strategy_backtest = optimal_strategy()"
   ]
  },
  {
   "cell_type": "code",
   "execution_count": 46,
   "metadata": {
    "executionInfo": {
     "elapsed": 9,
     "status": "ok",
     "timestamp": 1693366343364,
     "user": {
      "displayName": "Nathan Ramos",
      "userId": "15932077234235285562"
     },
     "user_tz": 300
    },
    "id": "ncd0gZ1A8-Ky"
   },
   "outputs": [],
   "source": [
    "def benchmark_strategy(strategy_name):\n",
    "    target_weights = benchmark_portfolio\n",
    "    portfolio_strategy = bt.Strategy(strategy_name, [\n",
    "        bt.algos.RunMonthly(),\n",
    "        bt.algos.WeighSpecified(**target_weights),\n",
    "        bt.algos.Rebalance()\n",
    "        ])\n",
    "    return bt.Backtest(\n",
    "        portfolio_strategy,\n",
    "        benchmark_prices,\n",
    "        strategy_name\n",
    "    )\n",
    "\n",
    "# Get the Backtest object for the main strategy\n",
    "benchmark_backtest = benchmark_strategy(benchmark_name)"
   ]
  },
  {
   "cell_type": "code",
   "execution_count": 47,
   "metadata": {
    "executionInfo": {
     "elapsed": 9,
     "status": "ok",
     "timestamp": 1693366343364,
     "user": {
      "displayName": "Nathan Ramos",
      "userId": "15932077234235285562"
     },
     "user_tz": 300
    },
    "id": "xPM4MarSoxtA"
   },
   "outputs": [],
   "source": [
    "# Random benchmark strategy\n",
    "random_strategy = bt.Strategy('Random Strategy',\n",
    "                       [bt.algos.RunMonthly(),\n",
    "                       bt.algos.SelectRandomly(),\n",
    "                       bt.algos.WeighRandomly(),\n",
    "                       bt.algos.Rebalance()])"
   ]
  },
  {
   "cell_type": "code",
   "execution_count": 48,
   "metadata": {
    "tags": []
   },
   "outputs": [],
   "source": [
    "class WeighRandomlyWithBounds(bt.Algo):\n",
    "    def __init__(self, weight_bounds, *args, **kwargs):\n",
    "        self.weight_bounds = weight_bounds\n",
    "        super(WeighRandomlyWithBounds, self).__init__(*args, **kwargs)\n",
    "    \n",
    "    def generate_random_weights(self, selected):\n",
    "        n = len(selected)\n",
    "        \n",
    "        weight_bounds_selected = self.weight_bounds[:n]\n",
    "        lower_bounds, upper_bounds = zip(*weight_bounds_selected)\n",
    "        \n",
    "        lower_bounds = np.array(lower_bounds)\n",
    "        upper_bounds = np.array(upper_bounds)\n",
    "\n",
    "        weights = np.zeros(n)\n",
    "        remaining = 1.0\n",
    "\n",
    "        for i in range(n - 1):\n",
    "            low = max(lower_bounds[i], 0)\n",
    "            high = min(upper_bounds[i], remaining - np.sum(lower_bounds[i + 1:]))\n",
    "\n",
    "            if high > low:\n",
    "                w = np.random.uniform(low, high)\n",
    "            else:\n",
    "                w = low\n",
    "\n",
    "            weights[i] = w\n",
    "            remaining -= w\n",
    "\n",
    "        weights[-1] = remaining\n",
    "\n",
    "        return pd.Series(weights, index=selected)\n",
    "        \n",
    "    def __call__(self, target):\n",
    "        selected = target.temp['selected']\n",
    "        if len(selected) == 0:\n",
    "            target.temp['weights'] = pd.Series(dtype=float)\n",
    "        else:\n",
    "            weights = self.generate_random_weights(selected)\n",
    "            target.temp['weights'] = weights\n",
    "        return True\n",
    "\n",
    "\n",
    "# Replace the WeighRandomly algo with the new custom one.\n",
    "random_strategy = bt.Strategy('Random Strategy with Bounds',\n",
    "                              [bt.algos.RunMonthly(),\n",
    "                               bt.algos.SelectRandomly(),\n",
    "                               WeighRandomlyWithBounds(weight_bounds),\n",
    "                               bt.algos.Rebalance()])"
   ]
  },
  {
   "cell_type": "code",
   "execution_count": 49,
   "metadata": {
    "executionInfo": {
     "elapsed": 1376,
     "status": "ok",
     "timestamp": 1693366344731,
     "user": {
      "displayName": "Nathan Ramos",
      "userId": "15932077234235285562"
     },
     "user_tz": 300
    },
    "id": "XIvVDe_ED_td",
    "tags": []
   },
   "outputs": [],
   "source": [
    "# Backtest with benchmark strategy\n",
    "results_with_benchmark_strategy = bt.run(strategy_backtest, benchmark_backtest)\n",
    "results_with_benchmark_strategy.set_riskfree_rate(average_risk_free_rate)"
   ]
  },
  {
   "cell_type": "code",
   "execution_count": null,
   "metadata": {
    "executionInfo": {
     "elapsed": 71756,
     "status": "ok",
     "timestamp": 1693366416481,
     "user": {
      "displayName": "Nathan Ramos",
      "userId": "15932077234235285562"
     },
     "user_tz": 300
    },
    "id": "BFZH3Tk0X8Xk",
    "tags": []
   },
   "outputs": [
    {
     "name": "stderr",
     "output_type": "stream",
     "text": [
      " 13%|██████████▎                                                                    | 131/1000 [00:23<02:41,  5.40it/s]"
     ]
    }
   ],
   "source": [
    "# Backtest with random benchmark strategy\n",
    "results_with_random_benchmarks = bt.backtest.benchmark_random(strategy_backtest, random_strategy, nsim=1000)\n",
    "results_with_random_benchmarks.set_riskfree_rate(average_risk_free_rate)"
   ]
  },
  {
   "cell_type": "markdown",
   "metadata": {},
   "source": [
    "## Display Backtest Results"
   ]
  },
  {
   "cell_type": "code",
   "execution_count": null,
   "metadata": {},
   "outputs": [],
   "source": [
    "results_with_benchmark_strategy.display()"
   ]
  },
  {
   "cell_type": "code",
   "execution_count": null,
   "metadata": {
    "tags": []
   },
   "outputs": [],
   "source": [
    "results_with_benchmark_strategy.plot(title='Backtest Performance');"
   ]
  },
  {
   "cell_type": "code",
   "execution_count": null,
   "metadata": {
    "colab": {
     "base_uri": "https://localhost:8080/",
     "height": 444
    },
    "executionInfo": {
     "elapsed": 878,
     "status": "ok",
     "timestamp": 1693366417314,
     "user": {
      "displayName": "Nathan Ramos",
      "userId": "15932077234235285562"
     },
     "user_tz": 300
    },
    "id": "NtL1caVj3yIm",
    "outputId": "06b7bc09-ccc7-403d-9e5f-94d4ce780892"
   },
   "outputs": [],
   "source": [
    "results_with_random_benchmarks.plot_security_weights(title='Security Weights (%)')"
   ]
  },
  {
   "cell_type": "markdown",
   "metadata": {},
   "source": [
    "### Hypothesis Test"
   ]
  },
  {
   "cell_type": "markdown",
   "metadata": {},
   "source": [
    "The hypothesis test aims to provide statistical evidence on whether the optimal portfolio's performance is statistically significant compared to a series of random portfolios. A normalized histogram of Sortino Ratios offers a powerful way to conduct this test."
   ]
  },
  {
   "cell_type": "markdown",
   "metadata": {},
   "source": [
    "### Key Components"
   ]
  },
  {
   "cell_type": "markdown",
   "metadata": {},
   "source": [
    "1) **Normalized Histogram**: The plot_normalized_histogram function generates a histogram of normalized Sortino Ratios from the random portfolios, allowing for a direct statistical comparison with the optimal portfolio.\n",
    "\n",
    "2) **Statistical Significance**: The red line in the histogram represents the Z-Score of the optimal portfolio. Annotations on the plot indicate whether the portfolio's performance is statistically significant.\n",
    "\n",
    "3) **Hypothesis Explanation**: Based on the Z-Score and the alpha value, the function provides an explanatory text box indicating whether we can reject the null hypothesis, i.e., whether the portfolio significantly outperforms random portfolios."
   ]
  },
  {
   "cell_type": "code",
   "execution_count": null,
   "metadata": {},
   "outputs": [],
   "source": [
    "results_with_random_benchmarks.plot_normalized_histogram(statistic=\"monthly_sortino\", alpha=0.159)"
   ]
  },
  {
   "cell_type": "markdown",
   "metadata": {},
   "source": [
    "### Interpretation"
   ]
  },
  {
   "cell_type": "markdown",
   "metadata": {},
   "source": [
    "1) **Z-Score**: If the Z-Score (red line) is beyond the critical Z-Score (dashed blue line), it suggests that the portfolio's performance is statistically significant at the chosen alpha level.\n",
    "\n",
    "2) **Statistical Conclusion**: The explanatory text box offers a straightforward interpretation of the hypothesis test, either confirming or refuting the portfolio's outperformance compared to random benchmarks."
   ]
  },
  {
   "cell_type": "markdown",
   "metadata": {},
   "source": [
    "## Key Takeaways\n",
    "\n",
    "1) **Optimal Portfolio Identification**: Through mathematical optimization techniques, we derived the optimal portfolio, which offers the best risk-reward tradeoff, and showcased its prospective allocations.\n",
    "\n",
    "2) **Backtesting Performance**: The backtests of the optimal portfolio demonstrated strong historical performance when pitted against the benchmark portfolio, providing a layer of empirical validity to the selected strategy.\n",
    "\n",
    "3) **Security Weights**: A closer examination of the portfolio's constituent assets over time gave us insights into the diversification and risk management inherent to the portfolio strategy.\n",
    "\n",
    "4) **Statistical Validation**: The hypothesis test using a normalized histogram of Sortino Ratios solidified our confidence in the strategy. The Z-Score and alpha value used in the test lend statistical weight to the strategy's performance, allowing us to discern whether the portfolio's returns are significantly better than what could be achieved by random chance."
   ]
  },
  {
   "cell_type": "markdown",
   "metadata": {},
   "source": [
    "## Risks to this Analysis"
   ]
  },
  {
   "cell_type": "markdown",
   "metadata": {},
   "source": [
    "In the pursuit of optimal portfolio construction and management, it's crucial to address various layers of risk and uncertainty. While we aim for maximum precision and accuracy, the nature of financial markets, as well as the mathematical models employed, come with inherent limitations and vulnerabilities.\n",
    "\n",
    "### Investment Risks\n",
    "\n",
    "1) **Market Risk**: While our models account for historical trends and relationships, they cannot predict unexpected market events like recessions, wars, or pandemics. Such events can adversely affect all asset classes.\n",
    "\n",
    "2) **Credit Risk**: Bonds and other fixed-income securities are subject to the risk of issuer default. Even corporate equities can be impacted if the issuing company faces solvency issues.\n",
    "\n",
    "3) **Liquidity Risk**: Some assets in the portfolio might be less liquid, making it difficult to quickly sell them at market value.\n",
    "\n",
    "4) **Tax Risk**: Changes in tax laws can impact the after-tax returns of your portfolio.\n",
    "\n",
    "### Model Risks\n",
    "\n",
    "1) **Overfitting**: The risk that our models, which are trained on past data, fit the training set's \"noise\" rather than the \"signal,\" affecting their generalizability to new, unseen data.\n",
    "\n",
    "2) **Assumption Risk**: All financial models are based on assumptions that might not hold true in real-life scenarios (e.g., constant volatility, normally-distributed returns, etc.).\n",
    "\n",
    "3) **Parameter Sensitivity**: Small changes in the model parameters could lead to significant changes in the portfolio allocations and thus performance.\n",
    "\n",
    "### Statistical Uncertainty\n",
    "\n",
    "1) **Sampling Error**: Our historical data is a sample and may not perfectly represent future or unobserved periods.\n",
    "\n",
    "2) **Confidence Intervals**: While we express our results with metrics like Z-Scores and p-values, these are subject to the level of confidence we choose (e.g., 95% or 99%). A result that is statistically significant at one level may not be at another.\n",
    "\n",
    "3) **Distribution Assumptions**: The use of metrics like Sharpe or Sortino ratios assumes that the underlying portfolio returns follow specific types of distributions, which may not always be the case.\n",
    "\n",
    "### Mitigation Strategies\n",
    "\n",
    "1) **Dynamic Adaptation**: Regularly update and adapt models to incorporate the most recent data and market insights.\n",
    "\n",
    "2) **Sensitivity Analysis**: Perform sensitivity tests to see how different parameters could impact portfolio performance.\n",
    "\n",
    "3) **Diversification**: Incorporate a broad range of assets and investment strategies to mitigate systemic and unsystemic risks.\n",
    "\n",
    "4) **External Validation**: Utilize third-party risk assessment tools and consult external experts for an unbiased assessment of the portfolio's risk profile."
   ]
  },
  {
   "cell_type": "code",
   "execution_count": null,
   "metadata": {},
   "outputs": [],
   "source": []
  }
 ],
 "metadata": {
  "colab": {
   "authorship_tag": "ABX9TyNFN5M0UtlLOeBcgNhV+CYs",
   "provenance": []
  },
  "kernelspec": {
   "display_name": "Python 3 (ipykernel)",
   "language": "python",
   "name": "python3"
  },
  "language_info": {
   "codemirror_mode": {
    "name": "ipython",
    "version": 3
   },
   "file_extension": ".py",
   "mimetype": "text/x-python",
   "name": "python",
   "nbconvert_exporter": "python",
   "pygments_lexer": "ipython3",
   "version": "3.11.3"
  },
  "toc-autonumbering": false,
  "toc-showcode": false,
  "toc-showmarkdowntxt": true,
  "toc-showtags": false
 },
 "nbformat": 4,
 "nbformat_minor": 4
}
